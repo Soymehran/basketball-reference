{
 "cells": [
  {
   "cell_type": "code",
   "execution_count": null,
   "id": "7873c85d-7b5b-4f7f-84ed-9725a3f26846",
   "metadata": {},
   "outputs": [],
   "source": [
    "import pandas as pd\n",
    "import matplotlib.pyplot as plt\n",
    "import seaborn as sns\n",
    "import statistics as stats\n",
    "import numpy as np\n"
   ]
  },
  {
   "cell_type": "code",
   "execution_count": null,
   "id": "9885beeb-face-469b-810d-1547ee80c2f0",
   "metadata": {},
   "outputs": [],
   "source": [
    "mvp = pd.read_csv('mvp_awards.csv')\n",
    "stats = pd.read_csv('stats.csv')\n",
    "players = pd.read_csv('players.csv')\n",
    "players = players.rename(columns={'id': 'player_id'})"
   ]
  },
  {
   "cell_type": "code",
   "execution_count": null,
   "id": "fe282acd-9f15-484e-bf00-262560418dea",
   "metadata": {},
   "outputs": [],
   "source": [
    "best_50_2019 = stats[stats['season_id'] == 1].sort_values(by = 'Points' ,ascending = False).head(50)[['player_id','Points']]\n",
    "best_50_2020 = stats[stats['season_id'] == 2].sort_values(by = 'Points' ,ascending = False).head(50)[['player_id','Points']]\n",
    "best_50_2021 = stats[stats['season_id'] == 3].sort_values(by = 'Points' ,ascending = False).head(50)[['player_id','Points']]\n",
    "best_50_2022 = stats[stats['season_id'] == 4].sort_values(by = 'Points' ,ascending = False).head(50)[['player_id','Points']]\n",
    "best_50_2023 = stats[stats['season_id'] == 5].sort_values(by = 'Points' ,ascending = False).head(50)[['player_id','Points']]\n",
    "\n",
    "merged_df = pd.concat([best_50_2019, best_50_2020, best_50_2021, best_50_2022, best_50_2023]).drop_duplicates(subset='player_id')\n",
    "merged_df"
   ]
  },
  {
   "cell_type": "code",
   "execution_count": null,
   "id": "84216231-d23a-456d-ba63-eebe11e18ff8",
   "metadata": {},
   "outputs": [],
   "source": [
    "height_bestp = merged_df.merge(players[['player_id', 'height']], on='player_id')\n",
    "height_bestp"
   ]
  },
  {
   "cell_type": "code",
   "execution_count": null,
   "id": "df82be0f-34c1-4545-9476-f3d3401b2e02",
   "metadata": {},
   "outputs": [],
   "source": [
    "height_mvp = mvp.merge(players[['player_id', 'height']], on='player_id')[['player_id', 'height']]\n",
    "height_mvp"
   ]
  },
  {
   "cell_type": "code",
   "execution_count": null,
   "id": "cb2a6e4e-ea38-44a4-912c-5d75a4da8883",
   "metadata": {},
   "outputs": [],
   "source": [
    "plt.figure(figsize=(10, 6))\n",
    "sns.kdeplot(height_bestp['height'], fill=True, color='blue', label='Best Players')\n",
    "\n",
    "sns.kdeplot(height_mvp['height'], fill=True, color='red', label='MVP Winners')\n",
    "\n",
    "plt.title('Height Distribution Comparison')\n",
    "plt.xlabel('Height')\n",
    "plt.ylabel('Density')\n",
    "plt.legend()\n",
    "\n",
    "plt.show()\n"
   ]
  },
  {
   "cell_type": "code",
   "execution_count": null,
   "id": "55b2ee59-a0fc-4d58-8643-c05ce0c460c2",
   "metadata": {},
   "outputs": [],
   "source": [
    "#For best players:\n",
    "# Calculate mean (average value)\n",
    "mean_bestp = height_bestp['height'].mean()\n",
    "\n",
    "# Calculate range (max - min)\n",
    "range_bestp = height_bestp['height'].max() - height_bestp['height'].min()\n",
    "\n",
    "# Calculate quartiles (Q1, Q2/Median, Q3)\n",
    "q1_b = np.percentile(height_bestp['height'], 25) \n",
    "q2_b = np.percentile(height_bestp['height'], 50)  \n",
    "q3_b = np.percentile(height_bestp['height'], 75)  \n",
    "\n",
    "print(f\"Mean: {mean_bestp}\")\n",
    "print(f\"Range: {range_bestp}\")\n",
    "print(f\"Q1: {q1_b}, Median (Q2): {q2_b}, Q3: {q3_b}\")"
   ]
  },
  {
   "cell_type": "code",
   "execution_count": null,
   "id": "459ada53-3814-4b23-9346-f6381f742ce6",
   "metadata": {},
   "outputs": [],
   "source": [
    "#For mvp winners:\n",
    "# Calculate mean (average value)\n",
    "mean_mvp = height_mvp['height'].mean()\n",
    "\n",
    "# Calculate range (max - min)\n",
    "range_mvp = height_mvp['height'].max() - height_mvp['height'].min()\n",
    "\n",
    "# Calculate quartiles (Q1, Q2/Median, Q3)\n",
    "q1_m = np.percentile(height_mvp['height'], 25)  # First quartile (25th percentile)\n",
    "q2_m = np.percentile(height_mvp['height'], 50)  # Median (50th percentile)\n",
    "q3_m = np.percentile(height_mvp['height'], 75)  # Third quartile (75th percentile)\n",
    "\n",
    "print(f\"Mean: {mean_mvp}\")\n",
    "print(f\"Range: {range_mvp}\")\n",
    "print(f\"Q1: {q1_m}, Median (Q2): {q2_m}, Q3: {q3_m}\")"
   ]
  },
  {
   "cell_type": "code",
   "execution_count": null,
   "id": "185295f9-2f85-4b9f-88a0-d9c22db4689f",
   "metadata": {},
   "outputs": [],
   "source": [
    "num_bins = int(np.log2(len(height_mvp['height'])) + 1)\n",
    "print(num_bins)\n",
    "plt.hist(height_bestp['height'], bins=10 , color = \"blue\", edgecolor=\"black\")\n",
    "plt.xlabel(\"Height\")\n",
    "plt.ylabel(\"Frequency\")\n",
    "plt.title(\"Height Distribution for Best Players\")\n",
    "plt.show()"
   ]
  },
  {
   "cell_type": "code",
   "execution_count": null,
   "id": "d824e5bd-8aaf-4d16-b0d2-81ad01e8581c",
   "metadata": {},
   "outputs": [],
   "source": [
    "plt.hist(height_mvp['height'], bins=10 ,color = \"red\", edgecolor=\"black\")\n",
    "plt.xlabel(\"Height\")\n",
    "plt.ylabel(\"Frequency\")\n",
    "plt.title(\"Height Distribution For MVP Winners\")\n",
    "plt.show()"
   ]
  },
  {
   "cell_type": "code",
   "execution_count": null,
   "id": "7a39fb18-8b37-4ce5-ab2b-3b58c9f75392",
   "metadata": {},
   "outputs": [],
   "source": [
    "plt.figure(figsize=(10, 6))\n",
    "plt.hist(height_bestp['height'], bins=10 , color = \"blue\", edgecolor=\"black\",alpha=0.5, label='Best Players', density=True)\n",
    "\n",
    "plt.hist(height_mvp['height'], bins=10 ,color = \"red\", edgecolor=\"black\",alpha=0.5, label='MVP Winners', density=True)\n",
    "\n",
    "sns.kdeplot(height_bestp['height'], color=\"blue\", linewidth=2, label='KDE Best Players')\n",
    "sns.kdeplot(height_mvp['height'], color=\"red\", linewidth=2, label='KDE MVP Winners')\n",
    "\n",
    "plt.title('Height Distribution Comparison')\n",
    "plt.xlabel('Height')\n",
    "plt.ylabel('Density')\n",
    "plt.legend()\n",
    "\n",
    "plt.show()"
   ]
  },
  {
   "cell_type": "code",
   "execution_count": null,
   "id": "bdc6c676-314c-47a4-ad33-8a93e45596a5",
   "metadata": {},
   "outputs": [],
   "source": [
    "#just being curuios about the ways to calculate bins\n",
    "# data = height_mvp['height'] \n",
    "# iqr = np.percentile(data, 75) - np.percentile(data, 25)  # Q3 - Q1 (Interquartile Range)\n",
    "# bin_width = 2 * iqr * (len(data) ** (-1/3))  # Freedman-Diaconis Formula\n",
    "# num_bins = int((data.max() - data.min()) / bin_width)  # Total range divided by bin width\n",
    "# num_bins"
   ]
  },
  {
   "cell_type": "code",
   "execution_count": null,
   "id": "7e53e2c8-e254-40d6-a9be-7b43f6b7cf1a",
   "metadata": {},
   "outputs": [],
   "source": [
    "plt.figure(figsize=(10, 6))\n",
    "sns.kdeplot(height_mvp['height'], fill =True, color=\"skyblue\", linewidth=2)\n",
    "\n",
    "# Overlay Mean\n",
    "plt.axvline(mean_mvp, color='red', linestyle='dashed', linewidth=2, label=f\"Mean: {mean_mvp:.2f}\")\n",
    "\n",
    "# Overlay Quartiles\n",
    "plt.axvline(q1_m, color='purple', linestyle='dotted', linewidth=2, label=f\"Q1: {q1_m:.2f}\")\n",
    "plt.axvline(q2_m, color='green', linestyle='dotted', linewidth=2, label=f\"Median (Q2): {q2_m:.2f}\")\n",
    "plt.axvline(q3_m, color='purple', linestyle='dotted', linewidth=2, label=f\"Q3: {q3_m:.2f}\")\n",
    "\n",
    "\n",
    "plt.xlabel(\"Height\")\n",
    "plt.ylabel(\"Density\")\n",
    "plt.title(\"Height Distribution (KDE) with Mean, Mode, and Quartiles for MVP winners\")\n",
    "plt.legend()\n",
    "plt.show()\n"
   ]
  },
  {
   "cell_type": "code",
   "execution_count": null,
   "id": "cf97cd0f-a435-43f3-b9ac-1ed8ca1d437b",
   "metadata": {},
   "outputs": [],
   "source": [
    "plt.figure(figsize=(10, 6))\n",
    "sns.kdeplot(height_bestp['height'], fill=True, color='grey', alpha=0.5)\n",
    "\n",
    "# Overlay statistical lines\n",
    "plt.axvline(mean_bestp, color='red', linestyle='--', label=f'Mean: {mean_bestp}')\n",
    "plt.axvline(q1_b, color='green', linestyle='--', label=f'Q1: {q1_b}')\n",
    "plt.axvline(q2_b, color='orange', linestyle='--', label=f'Median (Q2): {q2_b}')\n",
    "plt.axvline(q3_b, color='purple', linestyle='--', label=f'Q3: {q3_b}')\n",
    "\n",
    "plt.title('Height Distribution (KDE) with Mean, Mode, and Quartiles for Best Players')\n",
    "plt.xlabel('Height')\n",
    "plt.ylabel('Density')\n",
    "plt.legend()\n",
    "plt.show()\n",
    "\n",
    "# Explanation of the Code:\n",
    "# KDE Plot: The sns.kdeplot() function is used to plot the Kernel Density Estimation (KDE) for the height data.\n",
    "# Overlay Lines: Using plt.axvline(), vertical lines are added to represent the mean, quartiles (Q1, Q2, Q3), and mode. Each line is assigned a different color and labeled accordingly.\n",
    "# Legend: plt.legend() displays the labels for each line on the plot.\n",
    "# Labels: The plot includes a title and axis labels for clarity.\n",
    "# This will give us a KDE plot with the mean, quartiles, and mode overlaid as vertical lines for clear visualization."
   ]
  },
  {
   "cell_type": "code",
   "execution_count": null,
   "id": "e1622ecb-0d2d-4fd0-9d98-59e180c5351f",
   "metadata": {},
   "outputs": [],
   "source": [
    "# Plot both KDEs on the same figure\n",
    "plt.figure(figsize=(12, 6))\n",
    "\n",
    "# KDE for Best Players\n",
    "sns.kdeplot(height_bestp['height'], fill=True, color='grey', alpha=0.5, label=\"Best Players\")\n",
    "\n",
    "# KDE for MVP Players\n",
    "sns.kdeplot(height_mvp['height'], fill=True, color='skyblue', alpha=0.5, linewidth=2, label=\"MVP Players\")\n",
    "\n",
    "# Overlay statistical lines for Best Players\n",
    "plt.axvline(mean_bestp, color='red', linestyle='--', label=f'Mean (Best Players): {mean_bestp:.2f}')\n",
    "plt.axvline(q1_b, color='green', linestyle='--', label=f'Q1 (Best Players): {q1_b:.2f}')\n",
    "plt.axvline(q2_b, color='orange', linestyle='--', label=f'Median (Best Players): {q2_b:.2f}')\n",
    "plt.axvline(q3_b, color='green', linestyle='--', label=f'Q3 (Best Players): {q3_b:.2f}')\n",
    "\n",
    "# Overlay statistical lines for MVP Players\n",
    "plt.axvline(mean_mvp, color='red', linestyle='dashed', linewidth=2, label=f\"Mean (MVP): {mean_mvp:.2f}\")\n",
    "plt.axvline(q1_m, color='blue', linestyle='dotted', linewidth=2, label=f\"Q1 (MVP): {q1_m:.2f}\")\n",
    "plt.axvline(q2_m, color='orange', linestyle='dotted', linewidth=2, label=f\"Median (MVP): {q2_m:.2f}\")\n",
    "plt.axvline(q3_m, color='blue', linestyle='dotted', linewidth=2, label=f\"Q3 (MVP): {q3_m:.2f}\")\n",
    "\n",
    "plt.xlabel(\"Height\")\n",
    "plt.ylabel(\"Density\")\n",
    "plt.title(\"Height Distribution (KDE) with Statistical Measures for Best Players and MVP Winners\")\n",
    "plt.legend()\n",
    "\n",
    "plt.show()\n"
   ]
  },
  {
   "cell_type": "code",
   "execution_count": null,
   "id": "0e159ca9-1ac4-4db1-81e3-2984de7c2fd1",
   "metadata": {},
   "outputs": [],
   "source": []
  }
 ],
 "metadata": {
  "kernelspec": {
   "display_name": "Python 3 (ipykernel)",
   "language": "python",
   "name": "python3"
  },
  "language_info": {
   "codemirror_mode": {
    "name": "ipython",
    "version": 3
   },
   "file_extension": ".py",
   "mimetype": "text/x-python",
   "name": "python",
   "nbconvert_exporter": "python",
   "pygments_lexer": "ipython3",
   "version": "3.10.16"
  }
 },
 "nbformat": 4,
 "nbformat_minor": 5
}
